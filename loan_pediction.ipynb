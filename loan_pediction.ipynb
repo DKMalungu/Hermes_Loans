{
 "cells": [
  {
   "cell_type": "code",
   "execution_count": 1,
   "metadata": {},
   "outputs": [],
   "source": [
    "#importing Core libraries\n",
    "import pandas as pd\n",
    "import numpy as np\n",
    "import matplotlib.pyplot as plt\n",
    "import sklearn\n",
    "import seaborn as sbn"
   ]
  },
  {
   "cell_type": "code",
   "execution_count": 2,
   "metadata": {},
   "outputs": [],
   "source": [
    "##################################################Step 1 Dataselection#########################################################\n",
    "#importing the dataset from the data warehouse\n",
    "train_dataset=pd.read_csv('train.csv') #importimg the dataset into python\n",
    "test_dataset=pd.read_csv('test.csv') \n",
    "\n",
    "#creating the target_dataset\n",
    "target_data=train_dataset.copy()"
   ]
  },
  {
   "cell_type": "code",
   "execution_count": 3,
   "metadata": {},
   "outputs": [
    {
     "name": "stdout",
     "output_type": "stream",
     "text": [
      "Loan_ID               object\n",
      "Gender                object\n",
      "Married               object\n",
      "Dependents            object\n",
      "Education             object\n",
      "Self_Employed         object\n",
      "ApplicantIncome        int64\n",
      "CoapplicantIncome    float64\n",
      "LoanAmount           float64\n",
      "Loan_Amount_Term     float64\n",
      "Credit_History       float64\n",
      "Property_Area         object\n",
      "Loan_Status           object\n",
      "dtype: object\n",
      "((614, 13), (367, 12))\n"
     ]
    },
    {
     "data": {
      "text/plain": [
       "'\\nThe dataset is divided into two Target_dataset and test_dataset for training and evaluation of the model\\ntarget_dataset = its made up of 614 rows and 13 colunms \\ntest_dataset = its made up of 367 rows and 12 colunms \\n'"
      ]
     },
     "execution_count": 3,
     "metadata": {},
     "output_type": "execute_result"
    }
   ],
   "source": [
    "################################################## Understanding the Dataset ##################################################\n",
    "'''In this section, we will look at the structure of the train and test datasets. \n",
    "Firstly, we will check the features present in our data and then we will look at their data types.'''\n",
    "#Diasplaying all colunms\n",
    "target_data.columns\n",
    "'''\n",
    "The dataset is made up of 13 colunms which are\n",
    "Index(['Loan_ID', 'Gender', 'Married', 'Dependents', 'Education',\n",
    "       'Self_Employed', 'ApplicantIncome', 'CoapplicantIncome', 'LoanAmount',\n",
    "       'Loan_Amount_Term', 'Credit_History', 'Property_Area', 'Loan_Status'],\n",
    "      dtype='object')\n",
    "12 colunms are the Matrix of Features and 1 is the depedent varable vector\n",
    "Martix of features\n",
    "Loan_ID \n",
    "Gender \n",
    "Married\n",
    "Dependents\n",
    "Education\n",
    "Self_Employed\n",
    "ApplicantIncome\n",
    "CoapplicantIncome\n",
    "LoanAmount\n",
    "Loan_Amount_Term\n",
    "Credit_History\n",
    "Property_Area\n",
    "\n",
    "Dependent Varable vector\n",
    "Loan_Status\n",
    "'''\n",
    "#Displaying the datatypes of each colunm\n",
    "column_datatype=target_data.dtypes\n",
    "print(column_datatype)\n",
    "'''\n",
    "The data types of the colunms are\n",
    "Loan_ID               object\n",
    "Gender                object\n",
    "Married               object\n",
    "Dependents            object\n",
    "Education             object\n",
    "Self_Employed         object\n",
    "ApplicantIncome        int64\n",
    "CoapplicantIncome    float64\n",
    "LoanAmount           float64\n",
    "Loan_Amount_Term     float64\n",
    "Credit_History       float64\n",
    "Property_Area         object\n",
    "Loan_Status           object\n",
    "dtype: object\n",
    "it can be observed that they are three data types avaialbe in our dataset\n",
    "object - This means that the Data is non numerical values \n",
    "        The colunms that are non numerical include\n",
    "        Loan_ID               object\n",
    "        Gender                object\n",
    "        Married               object\n",
    "        Dependents            object\n",
    "        Education             object\n",
    "        Self_Employed         object\n",
    "        Property_Area         object\n",
    "        Loan_Status           object\n",
    "        It should be noted that majority of the colunms have categorical values\n",
    "int64 - This means the column contains integars with 64 bit allocation of memory\n",
    "        The colunm that is int64 is - ApplicantIncome\n",
    "\n",
    "float64 - this means the column is made up of numerical values that support decimal values\n",
    "        this colunms include \n",
    "        CoapplicantIncome    float64\n",
    "        LoanAmount           float64\n",
    "        Loan_Amount_Term     float64\n",
    "        Credit_History       float64\n",
    "\n",
    "'''\n",
    "\n",
    "#Displaying the shape of the dataset\n",
    "dataset_shape=(target_data.shape, test_dataset.shape)\n",
    "print(dataset_shape)\n",
    "\n",
    "'''\n",
    "The dataset is divided into two Target_dataset and test_dataset for training and evaluation of the model\n",
    "target_dataset = its made up of 614 rows and 13 colunms \n",
    "test_dataset = its made up of 367 rows and 12 colunms \n",
    "'''"
   ]
  },
  {
   "cell_type": "code",
   "execution_count": 4,
   "metadata": {},
   "outputs": [
    {
     "name": "stdout",
     "output_type": "stream",
     "text": [
      "Male      489\n",
      "Female    112\n",
      "Name: Gender, dtype: int64\n",
      "Male      0.813644\n",
      "Female    0.186356\n",
      "Name: Gender, dtype: float64\n",
      "AxesSubplot(0.125,0.125;0.775x0.755)\n"
     ]
    },
    {
     "data": {
      "text/plain": [
       "'\\nIt can be concludend that they are more male cutomers that female customers\\n'"
      ]
     },
     "execution_count": 4,
     "metadata": {},
     "output_type": "execute_result"
    },
    {
     "data": {
      "image/png": "[encoded data removed]",
      "text/plain": [
       "<Figure size 432x288 with 1 Axes>"
      ]
     },
     "metadata": {
      "needs_background": "light"
     },
     "output_type": "display_data"
    }
   ],
   "source": [
    "############################################ Univarate Analysis #######################################################\n",
    "'''\n",
    "Univariate analysis is the simplest form of analyzing data. “Uni” means “one”, so in other words your data has only \n",
    "one variable. It doesn’t deal with causes or relationships (unlike regression) and it’s major purpose is to describe; \n",
    "it takes data, summarizes that data and finds patterns in the data.\n",
    "Frequency Distribution Tables, Bar Charts, Histograms will be used to discribe that data\n",
    "'''\n",
    "\n",
    "# 1 Gender colunm\n",
    "#Fequency tables of Male and Female\n",
    "freq_gender=target_data['Gender'].value_counts()\n",
    "print(freq_gender)\n",
    "#The Number of Male = 489 and Female 112\n",
    "\n",
    "#Propotion of male to female\n",
    "prop_gender=target_data['Gender'].value_counts(normalize=True)\n",
    "print(prop_gender)\n",
    "#The proportion of male to female is Male = 0.81364 : Female = 0.186356 of the poplulation \n",
    "\n",
    "#Histogram of Male and Female\n",
    "hist_gender=target_data['Gender'].value_counts().plot.bar(title='Gender')\n",
    "print(hist_gender)\n",
    "\n",
    "'''\n",
    "It can be concludend that they are more male cutomers that female customers\n",
    "'''"
   ]
  },
  {
   "cell_type": "code",
   "execution_count": 5,
   "metadata": {},
   "outputs": [
    {
     "name": "stdout",
     "output_type": "stream",
     "text": [
      "Yes    398\n",
      "No     213\n",
      "Name: Married, dtype: int64\n",
      "Yes    0.651391\n",
      "No     0.348609\n",
      "Name: Married, dtype: float64\n",
      "AxesSubplot(0.125,0.125;0.775x0.755)\n"
     ]
    },
    {
     "data": {
      "text/plain": [
       "'\\nIt can be concludend that they are more married individual that marred individuals\\n'"
      ]
     },
     "execution_count": 5,
     "metadata": {},
     "output_type": "execute_result"
    },
    {
     "data": {
      "image/png": "[encoded data removed]",
      "text/plain": [
       "<Figure size 432x288 with 1 Axes>"
      ]
     },
     "metadata": {
      "needs_background": "light"
     },
     "output_type": "display_data"
    }
   ],
   "source": [
    "# 2 Married colunm\n",
    "#Fequency tables of Yes and No to Married statues\n",
    "freq_married=target_data['Married'].value_counts()\n",
    "print(freq_married)\n",
    "#The Number of yes (married)= 398 and No =213\n",
    "\n",
    "#Propotion of yes and No to marred statues\n",
    "prop_married=target_data['Married'].value_counts(normalize=True)\n",
    "print(prop_married)\n",
    "#The proportion of yes to no is Yes = 0.651391 : No = 0.348609 of the poplulation \n",
    "\n",
    "#Histogram of Male and Female\n",
    "hist_married=target_data['Married'].value_counts().plot.bar(title='Married')\n",
    "print(hist_married)\n",
    "\n",
    "'''\n",
    "It can be concludend that they are more married individual that marred individuals\n",
    "'''"
   ]
  },
  {
   "cell_type": "code",
   "execution_count": 6,
   "metadata": {},
   "outputs": [
    {
     "name": "stdout",
     "output_type": "stream",
     "text": [
      "0     345\n",
      "1     102\n",
      "2     101\n",
      "3+     51\n",
      "Name: Dependents, dtype: int64\n",
      "0     0.575960\n",
      "1     0.170284\n",
      "2     0.168614\n",
      "3+    0.085142\n",
      "Name: Dependents, dtype: float64\n",
      "AxesSubplot(0.125,0.125;0.775x0.755)\n"
     ]
    },
    {
     "data": {
      "text/plain": [
       "'\\nIt can be concludend that they are more client with  0 and 1 dependet make up more that 70% of all clents\\n'"
      ]
     },
     "execution_count": 6,
     "metadata": {},
     "output_type": "execute_result"
    },
    {
     "data": {
      "image/png": "[encoded data removed]",
      "text/plain": [
       "<Figure size 432x288 with 1 Axes>"
      ]
     },
     "metadata": {
      "needs_background": "light"
     },
     "output_type": "display_data"
    }
   ],
   "source": [
    "# 3 Dependents colunm\n",
    "#Fequency tables of Number of dependent per client\n",
    "freq_dependents=target_data['Dependents'].value_counts()\n",
    "print(freq_dependents)\n",
    "#The Number of 0 = 345, 1 = 102, 2 = 101 3+ = 51\n",
    "\n",
    "#Propotion of number of dependents\n",
    "prop_dependents=target_data['Dependents'].value_counts(normalize=True)\n",
    "print(prop_dependents)\n",
    "'''The proportion of  of the poplulation \n",
    "0     0.575960\n",
    "1     0.170284\n",
    "2     0.168614\n",
    "3+    0.085142'''\n",
    "\n",
    "#Histogram of number of Depemdents\n",
    "hist_dependents=target_data['Dependents'].value_counts().plot.bar(title='Dependants')\n",
    "print(hist_dependents)\n",
    "\n",
    "'''\n",
    "It can be concludend that they are more client with  0 and 1 dependet make up more that 70% of all clents\n",
    "'''"
   ]
  },
  {
   "cell_type": "code",
   "execution_count": 7,
   "metadata": {},
   "outputs": [
    {
     "name": "stdout",
     "output_type": "stream",
     "text": [
      "Graduate        480\n",
      "Not Graduate    134\n",
      "Name: Education, dtype: int64\n",
      "Graduate        0.781759\n",
      "Not Graduate    0.218241\n",
      "Name: Education, dtype: float64\n",
      "AxesSubplot(0.125,0.125;0.775x0.755)\n"
     ]
    },
    {
     "data": {
      "text/plain": [
       "'\\nIt can be concludend that majority of the client are Graduate\\n'"
      ]
     },
     "execution_count": 7,
     "metadata": {},
     "output_type": "execute_result"
    },
    {
     "data": {
      "image/png": "[encoded data removed]",
      "text/plain": [
       "<Figure size 432x288 with 1 Axes>"
      ]
     },
     "metadata": {
      "needs_background": "light"
     },
     "output_type": "display_data"
    }
   ],
   "source": [
    "# 4 Education colunm\n",
    "#Fequency tables of Education level\n",
    "freq_education=target_data['Education'].value_counts()\n",
    "print(freq_education)\n",
    "'''The Level of Education \n",
    "Graduate        480\n",
    "Not Graduate    134\n",
    "'''\n",
    "\n",
    "#Propotion of Education Level\n",
    "prop_education=target_data['Education'].value_counts(normalize=True)\n",
    "print(prop_education)\n",
    "'''The proportion of  Education Level is in the population\n",
    "Graduate        0.781759\n",
    "Not Graduate    0.218241\n",
    "'''\n",
    "\n",
    "#Histogram of Education level\n",
    "hist_education=target_data['Education'].value_counts().plot.bar(title='Education')\n",
    "print(hist_dependents)\n",
    "\n",
    "'''\n",
    "It can be concludend that majority of the client are Graduate\n",
    "'''"
   ]
  },
  {
   "cell_type": "code",
   "execution_count": 8,
   "metadata": {},
   "outputs": [
    {
     "name": "stdout",
     "output_type": "stream",
     "text": [
      "No     500\n",
      "Yes     82\n",
      "Name: Self_Employed, dtype: int64\n",
      "No     0.859107\n",
      "Yes    0.140893\n",
      "Name: Self_Employed, dtype: float64\n",
      "AxesSubplot(0.125,0.125;0.775x0.755)\n"
     ]
    },
    {
     "data": {
      "text/plain": [
       "'\\nIt can be concludend they are few self employed individuals \\n'"
      ]
     },
     "execution_count": 8,
     "metadata": {},
     "output_type": "execute_result"
    },
    {
     "data": {
      "image/png": "[encoded data removed]",
      "text/plain": [
       "<Figure size 432x288 with 1 Axes>"
      ]
     },
     "metadata": {
      "needs_background": "light"
     },
     "output_type": "display_data"
    }
   ],
   "source": [
    "# 5 Self Employeed colunm\n",
    "#Fequency tables of \n",
    "freq_self_employed=target_data['Self_Employed'].value_counts()\n",
    "print(freq_self_employed)\n",
    "'''Frequency of (Yes) Self Employeed client\n",
    "No     500\n",
    "Yes     82\n",
    "'''\n",
    "\n",
    "#Propotion of \n",
    "prop_self_employed=target_data['Self_Employed'].value_counts(normalize=True)\n",
    "print(prop_self_employed)\n",
    "'''The proportion of Self Employeed\n",
    "No     0.859107\n",
    "Yes    0.140893\n",
    "'''\n",
    "\n",
    "#Histogram of \n",
    "hist_self_employed=target_data['Self_Employed'].value_counts().plot.bar(title='Self Employeed')\n",
    "print(hist_self_employed)\n",
    "\n",
    "'''\n",
    "It can be concludend they are few self employed individuals \n",
    "'''"
   ]
  },
  {
   "cell_type": "code",
   "execution_count": 9,
   "metadata": {},
   "outputs": [
    {
     "name": "stdout",
     "output_type": "stream",
     "text": [
      "Semiurban    233\n",
      "Urban        202\n",
      "Rural        179\n",
      "Name: Property_Area, dtype: int64\n",
      "Semiurban    0.379479\n",
      "Urban        0.328990\n",
      "Rural        0.291531\n",
      "Name: Property_Area, dtype: float64\n",
      "AxesSubplot(0.125,0.125;0.775x0.755)\n"
     ]
    },
    {
     "data": {
      "text/plain": [
       "'\\nIt can be concludend that they is list varation between the diffent property Area\\n'"
      ]
     },
     "execution_count": 9,
     "metadata": {},
     "output_type": "execute_result"
    },
    {
     "data": {
      "image/png": "[encoded data removed]",
      "text/plain": [
       "<Figure size 432x288 with 1 Axes>"
      ]
     },
     "metadata": {
      "needs_background": "light"
     },
     "output_type": "display_data"
    }
   ],
   "source": [
    "# 6 Property Area colunm\n",
    "#Fequency tables of Property Categiries\n",
    "freq_property_area=target_data['Property_Area'].value_counts()\n",
    "print(freq_property_area)\n",
    "'''Frequency of properties categories\n",
    "Semiurban    233\n",
    "Urban        202\n",
    "Rural        179\n",
    "'''\n",
    "\n",
    "#Propotion of Property Categories\n",
    "prop_property_area=target_data['Property_Area'].value_counts(normalize=True)\n",
    "print(prop_property_area)\n",
    "'''The proportion of properties categories\n",
    "Semiurban    0.379479\n",
    "Urban        0.328990\n",
    "Rural        0.291531\n",
    "'''\n",
    "\n",
    "#Histogram of Property Categories\n",
    "hist_property_area=target_data['Property_Area'].value_counts().plot.bar(title='Property Area')\n",
    "print(hist_self_employed)\n",
    "\n",
    "'''\n",
    "It can be concludend that they is list varation between the diffent property Area\n",
    "'''"
   ]
  },
  {
   "cell_type": "code",
   "execution_count": 10,
   "metadata": {},
   "outputs": [
    {
     "name": "stdout",
     "output_type": "stream",
     "text": [
      "Y    422\n",
      "N    192\n",
      "Name: Loan_Status, dtype: int64\n",
      "Y    0.687296\n",
      "N    0.312704\n",
      "Name: Loan_Status, dtype: float64\n",
      "AxesSubplot(0.125,0.125;0.775x0.755)\n"
     ]
    },
    {
     "data": {
      "text/plain": [
       "'\\nIt can be concludend most loan statues follow under Yes\\n'"
      ]
     },
     "execution_count": 10,
     "metadata": {},
     "output_type": "execute_result"
    },
    {
     "data": {
      "image/png": "[encoded data removed]",
      "text/plain": [
       "<Figure size 432x288 with 1 Axes>"
      ]
     },
     "metadata": {
      "needs_background": "light"
     },
     "output_type": "display_data"
    }
   ],
   "source": [
    "# 7 Loan Statues colunm\n",
    "#Fequency tables Loan Statues  \n",
    "freq_loan_status=target_data['Loan_Status'].value_counts()\n",
    "print(freq_loan_status)\n",
    "'''Frequency of loan satues \n",
    "Y    422\n",
    "N    192\n",
    "'''\n",
    "\n",
    "#Propotion of yes against No Loan Statues\n",
    "prop_loan_status=target_data['Loan_Status'].value_counts(normalize=True)\n",
    "print(prop_loan_status)\n",
    "'''\n",
    "The proportion of Yes against No Loan Statues\n",
    "Y    0.687296\n",
    "N    0.312704\n",
    "'''\n",
    "\n",
    "#Histogram \n",
    "hist_loan_status=target_data['Loan_Status'].value_counts().plot.bar(title='Loan Status')\n",
    "print(hist_loan_status)\n",
    "\n",
    "'''\n",
    "It can be concludend most loan statues follow under Yes\n",
    "'''\n"
   ]
  },
  {
   "cell_type": "code",
   "execution_count": 11,
   "metadata": {},
   "outputs": [
    {
     "data": {
      "text/plain": [
       "'\\nIt can be concludend that Applicant Income is not normaly distributed\\n'"
      ]
     },
     "execution_count": 11,
     "metadata": {},
     "output_type": "execute_result"
    },
    {
     "data": {
      "image/png": "[encoded data removed]",
      "text/plain": [
       "<Figure size 432x288 with 1 Axes>"
      ]
     },
     "metadata": {
      "needs_background": "light"
     },
     "output_type": "display_data"
    }
   ],
   "source": [
    "# 8 Applicant Income colunm\n",
    "'''\n",
    "#Fequency tables of Applicant Income  \n",
    "freq_applicantincome=target_data['ApplicantIncome'].value_counts()\n",
    "print(freq_applicantincome)\n",
    "'''#Frequency of \n",
    "'''\n",
    "\n",
    "#Propotion of Applicant Income\n",
    "prop_applicantincome=target_data['ApplicantIncome'].value_counts(normalize=True)\n",
    "print(prop_applicantincome)\n",
    "'''\n",
    "#The proportion of \n",
    "\n",
    "'''\n",
    "'''\n",
    "#Distribution of Income\n",
    "disrt_applicantincome=sbn.distplot(target_data['ApplicantIncome']); \n",
    "\n",
    "\n",
    "'''\n",
    "It can be concludend that Applicant Income is not normaly distributed\n",
    "'''"
   ]
  },
  {
   "cell_type": "code",
   "execution_count": 12,
   "metadata": {},
   "outputs": [
    {
     "data": {
      "text/plain": [
       "'\\nIt can be concludend most that Co-applicant Income is not normally distributed\\n'"
      ]
     },
     "execution_count": 12,
     "metadata": {},
     "output_type": "execute_result"
    },
    {
     "data": {
      "image/png": "[encoded data removed]",
      "text/plain": [
       "<Figure size 432x288 with 1 Axes>"
      ]
     },
     "metadata": {
      "needs_background": "light"
     },
     "output_type": "display_data"
    }
   ],
   "source": [
    "# 9 Co-applicant Income colunm\n",
    "'''\n",
    "#Fequency tables of Applicant Income  \n",
    "freq_coapplicantincome=target_data['CoapplicantIncome'].value_counts()\n",
    "print(freq_coapplicantincome)\n",
    "'''#Frequency of \n",
    "'''\n",
    "\n",
    "#Propotion of Applicant Income\n",
    "prop_coapplicantincome=target_data['CoapplicantIncome'].value_counts(normalize=True)\n",
    "print(prop_coapplicantincome)\n",
    "'''\n",
    "#The proportion of \n",
    "\n",
    "'''\n",
    "'''\n",
    "#Distribution of Income\n",
    "disrt_coapplicantincome=sbn.distplot(target_data['CoapplicantIncome']); \n",
    "\n",
    "\n",
    "'''\n",
    "It can be concludend most that Co-applicant Income is not normally distributed\n",
    "'''\n"
   ]
  },
  {
   "cell_type": "code",
   "execution_count": 13,
   "metadata": {},
   "outputs": [
    {
     "data": {
      "text/plain": [
       "'\\nIt can be concludend most that Loan Amount in normaly distributed beacuse of the bell shape\\n'"
      ]
     },
     "execution_count": 13,
     "metadata": {},
     "output_type": "execute_result"
    },
    {
     "data": {
      "image/png": "[encoded data removed]",
      "text/plain": [
       "<Figure size 432x288 with 1 Axes>"
      ]
     },
     "metadata": {
      "needs_background": "light"
     },
     "output_type": "display_data"
    }
   ],
   "source": [
    "# 9 Co-applicant Income colunm\n",
    "'''\n",
    "#Fequency tables of Applicant Income  \n",
    "freq_coapplicantincome=target_data['CoapplicantIncome'].value_counts()\n",
    "print(freq_coapplicantincome)\n",
    "'''#Frequency of \n",
    "'''\n",
    "\n",
    "#Propotion of Applicant Income\n",
    "prop_coapplicantincome=target_data['CoapplicantIncome'].value_counts(normalize=True)\n",
    "print(prop_coapplicantincome)\n",
    "'''\n",
    "#The proportion of \n",
    "\n",
    "'''\n",
    "'''\n",
    "#Distribution of Income\n",
    "df_loan_dist=target_data.dropna()\n",
    "disrt_loanamount=sbn.distplot(df_loan_dist['LoanAmount']); \n",
    "\n",
    "\n",
    "'''\n",
    "It can be concludend most that Loan Amount in normaly distributed beacuse of the bell shape\n",
    "'''"
   ]
  },
  {
   "cell_type": "code",
   "execution_count": 14,
   "metadata": {},
   "outputs": [
    {
     "name": "stdout",
     "output_type": "stream",
     "text": [
      "                   ApplicantIncome  CoapplicantIncome  LoanAmount  \\\n",
      "ApplicantIncome           1.000000          -0.116605    0.570909   \n",
      "CoapplicantIncome        -0.116605           1.000000    0.188619   \n",
      "LoanAmount                0.570909           0.188619    1.000000   \n",
      "Loan_Amount_Term         -0.045306          -0.059878    0.039447   \n",
      "Credit_History           -0.014715          -0.002056   -0.008433   \n",
      "\n",
      "                   Loan_Amount_Term  Credit_History  \n",
      "ApplicantIncome           -0.045306       -0.014715  \n",
      "CoapplicantIncome         -0.059878       -0.002056  \n",
      "LoanAmount                 0.039447       -0.008433  \n",
      "Loan_Amount_Term           1.000000        0.001470  \n",
      "Credit_History             0.001470        1.000000  \n"
     ]
    },
    {
     "data": {
      "text/plain": [
       "<matplotlib.axes._subplots.AxesSubplot at 0x7fccfe92a5f8>"
      ]
     },
     "execution_count": 14,
     "metadata": {},
     "output_type": "execute_result"
    },
    {
     "data": {
      "image/png": "[encoded data removed]",
      "text/plain": [
       "<Figure size 432x288 with 2 Axes>"
      ]
     },
     "metadata": {
      "needs_background": "light"
     },
     "output_type": "display_data"
    }
   ],
   "source": [
    "############################################## Bivarient Analysis ######################################################\n",
    "'''\n",
    "Bivariate analysis is the simultaneous analysis of two variables (attributes). It explores the concept of relationship\n",
    "between two variables, whether there exists an association and the strength of this association, or whether there are \n",
    "differences between two variables and the significance of these differences. There are three types of bivariate \n",
    "analysis.\n",
    "Numerical & Numerical\n",
    "Categorical & Categorical\n",
    "Numerical & Categorical\n",
    "'''\n",
    "# 1 Applicats Income and Education is there a relation between income and education\n",
    "sbn.lineplot(x=target_data['ApplicantIncome'].dropna(),y=target_data['LoanAmount'])\n",
    "\n",
    "#Correlation betweennumerical values\n",
    "matrix=target_data.corr()\n",
    "print(matrix)\n",
    "sbn.heatmap(matrix)"
   ]
  },
  {
   "cell_type": "code",
   "execution_count": 16,
   "metadata": {},
   "outputs": [],
   "source": [
    "######################## Treatment of Missing Values and Outliers ##########################################################\n",
    "#Listing Missing Values Columns Wise\n",
    "missing_values_column=target_data.isnull().sum()\n",
    "print(missing_values_column)\n",
    "'''\n",
    "7 colunms have missing values \n",
    "this colunms are \n",
    "Gender               13\n",
    "Married               3\n",
    "Dependents           15\n",
    "Self_Employed        32\n",
    "LoanAmount           22\n",
    "Loan_Amount_Term     14\n",
    "Credit_History       50\n",
    "\n",
    "This colunms containg value of difrent types this diffrence in type will determin the method that will be used to fill the \n",
    "missing values\n",
    "this methods include:\n",
    "Filling with Mean Value\n",
    "Filling with Mode Value\n",
    "Filling with Median Value \n",
    "Filling with Constant Value\n",
    "'''"
   ]
  },
  {
   "cell_type": "code",
   "execution_count": 17,
   "metadata": {},
   "outputs": [],
   "source": [
    "###########################Filling Missing values that are categorical Values################################################\n",
    "'''\n",
    "Colunms that contain categorical values are:\n",
    "Gender\n",
    "Married\n",
    "Dependets\n",
    "Self Employeed\n",
    "'''\n",
    "#This strategy adopted for categorical values is using the mode value to fill the missing value \n",
    "#Gender\n",
    "target_data['Gender'].fillna(target_data['Gender'].mode()[0],inplace=True)\n",
    "#Married\n",
    "target_data['Married'].fillna(target_data['Married'].mode()[0],inplace=True)\n",
    "#Dependents\n",
    "target_data['Dependents'].fillna(target_data['Dependents'].mode()[0],inplace=True)\n",
    "#Self Employeed\n",
    "target_data['Self_Employed'].fillna(target_data['Self_Employed'].mode(),inplace=True)"
   ]
  },
  {
   "cell_type": "code",
   "execution_count": 21,
   "metadata": {},
   "outputs": [],
   "source": [
    "##################################### Filling Missing Values That are Numerical Values ######################################\n",
    "'''\n",
    "The colunms that containg missing values that are numerical\n",
    "Loan Amount\n",
    "Loan Amount Term\n",
    "Credit History\n",
    "'''\n",
    "#Loan Aount Term Term of loan in months - it the period so the mode is the most approproate technigues\n",
    "target_data['Loan_Amount_Term'].fillna(target_data['Loan_Amount_Term'].mode(),inplace=True)\n",
    "\n",
    "#Loan Aount- it the ammount given to the client the median is great measure when mesuring income\n",
    "target_data['LoanAmount'].fillna(target_data['LoanAmount'].median(),inplace=True)\n",
    "\n",
    "#Credit History \n"
   ]
  },
  {
   "cell_type": "code",
   "execution_count": null,
   "metadata": {},
   "outputs": [],
   "source": []
  }
 ],
 "metadata": {
  "kernelspec": {
   "display_name": "Python 3",
   "language": "python",
   "name": "python3"
  },
  "language_info": {
   "codemirror_mode": {
    "name": "ipython",
    "version": 3
   },
   "file_extension": ".py",
   "mimetype": "text/x-python",
   "name": "python",
   "nbconvert_exporter": "python",
   "pygments_lexer": "ipython3",
   "version": "3.6.8"
  }
 },
 "nbformat": 4,
 "nbformat_minor": 2
}
